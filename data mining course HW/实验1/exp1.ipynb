{
 "cells": [
  {
   "cell_type": "code",
   "execution_count": 3,
   "metadata": {},
   "outputs": [],
   "source": [
    "import pandas as pd\n",
    "import numpy as np\n",
    "import matplotlib.pyplot as plt\n",
    "from sklearn.metrics import roc_curve,auc\n",
    "import warnings\n",
    "warnings.filterwarnings(\"ignore\")\n",
    "\n",
    "movies_path = './exp1_data/movies.dat'\n",
    "users_path = './exp1_data/users.dat'\n",
    "ratings_path = './exp1_data/ratings.dat'\n",
    "movies_column = ['MovieID','Title','Genres']\n",
    "users_column = ['UserID','Gender','Age','Occupation','Zip-code']\n",
    "ratings_column = ['UserID','MovieID','Rating','Timestamp']\n",
    "\n",
    "## 读取资料\n",
    "def read_dat(filePath,column):\n",
    "    f = open(filePath,encoding='unicode_escape')\n",
    "    datlist = []\n",
    "    for line in f:\n",
    "        l = line.strip().split('::')\n",
    "        datlist.append(l)\n",
    "    return pd.DataFrame(datlist,columns=column)"
   ]
  },
  {
   "cell_type": "code",
   "execution_count": 4,
   "metadata": {},
   "outputs": [
    {
     "data": {
      "text/html": [
       "<div>\n",
       "<style scoped>\n",
       "    .dataframe tbody tr th:only-of-type {\n",
       "        vertical-align: middle;\n",
       "    }\n",
       "\n",
       "    .dataframe tbody tr th {\n",
       "        vertical-align: top;\n",
       "    }\n",
       "\n",
       "    .dataframe thead th {\n",
       "        text-align: right;\n",
       "    }\n",
       "</style>\n",
       "<table border=\"1\" class=\"dataframe\">\n",
       "  <thead>\n",
       "    <tr style=\"text-align: right;\">\n",
       "      <th></th>\n",
       "      <th>UserID</th>\n",
       "      <th>MovieID</th>\n",
       "      <th>Rating</th>\n",
       "      <th>Timestamp</th>\n",
       "    </tr>\n",
       "  </thead>\n",
       "  <tbody>\n",
       "    <tr>\n",
       "      <th>0</th>\n",
       "      <td>1</td>\n",
       "      <td>1193</td>\n",
       "      <td>5</td>\n",
       "      <td>978300760</td>\n",
       "    </tr>\n",
       "    <tr>\n",
       "      <th>1</th>\n",
       "      <td>1</td>\n",
       "      <td>661</td>\n",
       "      <td>3</td>\n",
       "      <td>978302109</td>\n",
       "    </tr>\n",
       "    <tr>\n",
       "      <th>2</th>\n",
       "      <td>1</td>\n",
       "      <td>914</td>\n",
       "      <td>3</td>\n",
       "      <td>978301968</td>\n",
       "    </tr>\n",
       "    <tr>\n",
       "      <th>3</th>\n",
       "      <td>1</td>\n",
       "      <td>3408</td>\n",
       "      <td>4</td>\n",
       "      <td>978300275</td>\n",
       "    </tr>\n",
       "    <tr>\n",
       "      <th>4</th>\n",
       "      <td>1</td>\n",
       "      <td>2355</td>\n",
       "      <td>5</td>\n",
       "      <td>978824291</td>\n",
       "    </tr>\n",
       "    <tr>\n",
       "      <th>...</th>\n",
       "      <td>...</td>\n",
       "      <td>...</td>\n",
       "      <td>...</td>\n",
       "      <td>...</td>\n",
       "    </tr>\n",
       "    <tr>\n",
       "      <th>1000204</th>\n",
       "      <td>6040</td>\n",
       "      <td>1091</td>\n",
       "      <td>1</td>\n",
       "      <td>956716541</td>\n",
       "    </tr>\n",
       "    <tr>\n",
       "      <th>1000205</th>\n",
       "      <td>6040</td>\n",
       "      <td>1094</td>\n",
       "      <td>5</td>\n",
       "      <td>956704887</td>\n",
       "    </tr>\n",
       "    <tr>\n",
       "      <th>1000206</th>\n",
       "      <td>6040</td>\n",
       "      <td>562</td>\n",
       "      <td>5</td>\n",
       "      <td>956704746</td>\n",
       "    </tr>\n",
       "    <tr>\n",
       "      <th>1000207</th>\n",
       "      <td>6040</td>\n",
       "      <td>1096</td>\n",
       "      <td>4</td>\n",
       "      <td>956715648</td>\n",
       "    </tr>\n",
       "    <tr>\n",
       "      <th>1000208</th>\n",
       "      <td>6040</td>\n",
       "      <td>1097</td>\n",
       "      <td>4</td>\n",
       "      <td>956715569</td>\n",
       "    </tr>\n",
       "  </tbody>\n",
       "</table>\n",
       "<p>1000209 rows × 4 columns</p>\n",
       "</div>"
      ],
      "text/plain": [
       "        UserID MovieID Rating  Timestamp\n",
       "0            1    1193      5  978300760\n",
       "1            1     661      3  978302109\n",
       "2            1     914      3  978301968\n",
       "3            1    3408      4  978300275\n",
       "4            1    2355      5  978824291\n",
       "...        ...     ...    ...        ...\n",
       "1000204   6040    1091      1  956716541\n",
       "1000205   6040    1094      5  956704887\n",
       "1000206   6040     562      5  956704746\n",
       "1000207   6040    1096      4  956715648\n",
       "1000208   6040    1097      4  956715569\n",
       "\n",
       "[1000209 rows x 4 columns]"
      ]
     },
     "execution_count": 4,
     "metadata": {},
     "output_type": "execute_result"
    }
   ],
   "source": [
    "df_movies = read_dat(movies_path,movies_column)\n",
    "df_users = read_dat(users_path,users_column)\n",
    "df_ratings = read_dat(ratings_path,ratings_column)\n",
    "df_ratings"
   ]
  },
  {
   "cell_type": "code",
   "execution_count": 5,
   "metadata": {},
   "outputs": [],
   "source": [
    "## 把数据资料分成两部分：训练集90% 测试集10%\n",
    "def splitData(df_data):\n",
    "    mask = np.random.rand(len(df_data))<.9\n",
    "    train_data = df_data[mask]\n",
    "    test_data = df_data[~mask]\n",
    "    return train_data,test_data\n",
    "    \n",
    "train_ratings,test_ratings = splitData(df_ratings)"
   ]
  },
  {
   "cell_type": "code",
   "execution_count": 6,
   "metadata": {},
   "outputs": [
    {
     "data": {
      "text/plain": [
       "((900593, 4), (99616, 4))"
      ]
     },
     "execution_count": 6,
     "metadata": {},
     "output_type": "execute_result"
    }
   ],
   "source": [
    "train_ratings.shape,test_ratings.shape"
   ]
  },
  {
   "cell_type": "code",
   "execution_count": 7,
   "metadata": {},
   "outputs": [],
   "source": [
    "## 评价>3的用户-电影_DataFrame\n",
    "def users_prefer_movies(ratings):\n",
    "    ratings['prefer'] = ratings['Rating'] > '3'\n",
    "    ratings['prefer'] = ratings['prefer'].astype(int)\n",
    "    user_movie = pd.DataFrame(ratings,columns=['UserID','MovieID','prefer'])\n",
    "    user_movie_prefer = user_movie[user_movie['prefer']==True]\n",
    "    return user_movie_prefer"
   ]
  },
  {
   "cell_type": "code",
   "execution_count": 8,
   "metadata": {},
   "outputs": [
    {
     "data": {
      "text/plain": [
       "(6040, 3952)"
      ]
     },
     "execution_count": 8,
     "metadata": {},
     "output_type": "execute_result"
    }
   ],
   "source": [
    "## 用户和电影的数量\n",
    "## n表示用户数量;m表示电影数量 \n",
    "n = len(df_users.UserID.unique())\n",
    "m = np.max(np.array(df_movies.MovieID,dtype=np.int64))\n",
    "n,m"
   ]
  },
  {
   "cell_type": "markdown",
   "metadata": {},
   "source": [
    "## Process 1:\n",
    "用户对自己看过的电影打分1-5分，其中1分表示最不喜欢，5分表示最喜欢。假设分数大于3分的，表示用户喜欢这部电影，在二部图中构建一条从用户到该电影的连边。\n",
    "\n",
    "考虑由m个用户n部电影构成的电影推荐系统。用户i对电影j打分超过3分，就在i和j之间连接一条边$a_{ji}=1$,否则$a_{ji}$=0。"
   ]
  },
  {
   "cell_type": "code",
   "execution_count": 9,
   "metadata": {},
   "outputs": [
    {
     "data": {
      "text/html": [
       "<div>\n",
       "<style scoped>\n",
       "    .dataframe tbody tr th:only-of-type {\n",
       "        vertical-align: middle;\n",
       "    }\n",
       "\n",
       "    .dataframe tbody tr th {\n",
       "        vertical-align: top;\n",
       "    }\n",
       "\n",
       "    .dataframe thead th {\n",
       "        text-align: right;\n",
       "    }\n",
       "</style>\n",
       "<table border=\"1\" class=\"dataframe\">\n",
       "  <thead>\n",
       "    <tr style=\"text-align: right;\">\n",
       "      <th></th>\n",
       "      <th>UserID</th>\n",
       "      <th>MovieID</th>\n",
       "      <th>prefer</th>\n",
       "    </tr>\n",
       "  </thead>\n",
       "  <tbody>\n",
       "    <tr>\n",
       "      <th>0</th>\n",
       "      <td>1</td>\n",
       "      <td>1193</td>\n",
       "      <td>1</td>\n",
       "    </tr>\n",
       "    <tr>\n",
       "      <th>3</th>\n",
       "      <td>1</td>\n",
       "      <td>3408</td>\n",
       "      <td>1</td>\n",
       "    </tr>\n",
       "    <tr>\n",
       "      <th>4</th>\n",
       "      <td>1</td>\n",
       "      <td>2355</td>\n",
       "      <td>1</td>\n",
       "    </tr>\n",
       "    <tr>\n",
       "      <th>7</th>\n",
       "      <td>1</td>\n",
       "      <td>2804</td>\n",
       "      <td>1</td>\n",
       "    </tr>\n",
       "    <tr>\n",
       "      <th>8</th>\n",
       "      <td>1</td>\n",
       "      <td>594</td>\n",
       "      <td>1</td>\n",
       "    </tr>\n",
       "    <tr>\n",
       "      <th>...</th>\n",
       "      <td>...</td>\n",
       "      <td>...</td>\n",
       "      <td>...</td>\n",
       "    </tr>\n",
       "    <tr>\n",
       "      <th>1000202</th>\n",
       "      <td>6040</td>\n",
       "      <td>1089</td>\n",
       "      <td>1</td>\n",
       "    </tr>\n",
       "    <tr>\n",
       "      <th>1000205</th>\n",
       "      <td>6040</td>\n",
       "      <td>1094</td>\n",
       "      <td>1</td>\n",
       "    </tr>\n",
       "    <tr>\n",
       "      <th>1000206</th>\n",
       "      <td>6040</td>\n",
       "      <td>562</td>\n",
       "      <td>1</td>\n",
       "    </tr>\n",
       "    <tr>\n",
       "      <th>1000207</th>\n",
       "      <td>6040</td>\n",
       "      <td>1096</td>\n",
       "      <td>1</td>\n",
       "    </tr>\n",
       "    <tr>\n",
       "      <th>1000208</th>\n",
       "      <td>6040</td>\n",
       "      <td>1097</td>\n",
       "      <td>1</td>\n",
       "    </tr>\n",
       "  </tbody>\n",
       "</table>\n",
       "<p>517889 rows × 3 columns</p>\n",
       "</div>"
      ],
      "text/plain": [
       "        UserID MovieID  prefer\n",
       "0            1    1193       1\n",
       "3            1    3408       1\n",
       "4            1    2355       1\n",
       "7            1    2804       1\n",
       "8            1     594       1\n",
       "...        ...     ...     ...\n",
       "1000202   6040    1089       1\n",
       "1000205   6040    1094       1\n",
       "1000206   6040     562       1\n",
       "1000207   6040    1096       1\n",
       "1000208   6040    1097       1\n",
       "\n",
       "[517889 rows x 3 columns]"
      ]
     },
     "execution_count": 9,
     "metadata": {},
     "output_type": "execute_result"
    }
   ],
   "source": [
    "users_prefer_movies(train_ratings)"
   ]
  },
  {
   "cell_type": "code",
   "execution_count": 10,
   "metadata": {},
   "outputs": [],
   "source": [
    "## 建立用户电影矩阵A\n",
    "def create_matA(ratings):\n",
    "    mat_A = np.zeros((n,m))\n",
    "    dis_mat_A = np.zeros((n,m))\n",
    "    for _,triple in ratings.iterrows():\n",
    "        if int(triple[2]) > 3:mat_A[int(triple[0])-1,int(triple[1])-1] = 1\n",
    "        else:dis_mat_A[int(triple[0])-1,int(triple[1])-1] = 1\n",
    "    return dis_mat_A,mat_A"
   ]
  },
  {
   "cell_type": "code",
   "execution_count": 11,
   "metadata": {},
   "outputs": [],
   "source": [
    "dis_train_a,train_a = create_matA(train_ratings)\n",
    "dis_test_a,test_a = create_matA(test_ratings) "
   ]
  },
  {
   "cell_type": "code",
   "execution_count": 12,
   "metadata": {},
   "outputs": [
    {
     "data": {
      "text/plain": [
       "(array([[1., 0., 0., ..., 0., 0., 0.],\n",
       "        [0., 0., 0., ..., 0., 0., 0.],\n",
       "        [0., 0., 0., ..., 0., 0., 0.],\n",
       "        ...,\n",
       "        [0., 0., 0., ..., 0., 0., 0.],\n",
       "        [0., 0., 0., ..., 0., 0., 0.],\n",
       "        [0., 0., 0., ..., 0., 0., 0.]]),\n",
       " (6040, 3952),\n",
       " array([[0., 0., 0., ..., 0., 0., 0.],\n",
       "        [0., 0., 0., ..., 0., 0., 0.],\n",
       "        [0., 0., 0., ..., 0., 0., 0.],\n",
       "        ...,\n",
       "        [0., 0., 0., ..., 0., 0., 0.],\n",
       "        [0., 0., 0., ..., 0., 0., 0.],\n",
       "        [0., 0., 0., ..., 0., 0., 0.]]),\n",
       " (6040, 3952))"
      ]
     },
     "execution_count": 12,
     "metadata": {},
     "output_type": "execute_result"
    }
   ],
   "source": [
    "train_a,train_a.shape,test_a,test_a.shape "
   ]
  },
  {
   "cell_type": "code",
   "execution_count": 13,
   "metadata": {},
   "outputs": [
    {
     "data": {
      "text/plain": [
       "((6040, 3952), (6040, 3952))"
      ]
     },
     "execution_count": 13,
     "metadata": {},
     "output_type": "execute_result"
    }
   ],
   "source": [
    "train_a.shape,test_a.shape"
   ]
  },
  {
   "cell_type": "markdown",
   "metadata": {},
   "source": [
    "## Process 2:计算资源配额矩阵；\n",
    "计算资源配额矩阵W中的元素wij表示产品j愿意分配给产品i的资源配额。假设一个用户选择过的商品j都有向该用户推荐其他产品i的能力。\n",
    "$$\n",
    "w_{ij} = \\frac{1}{k_j} \\sum^n_{l=1}\\frac{a_{li}a_{lj}}{k_l}\n",
    "$$\n",
    "kj表示产品j的度（被多少用户评价过），kl表示用户l的度（用户选择过多少产品）。"
   ]
  },
  {
   "cell_type": "code",
   "execution_count": 14,
   "metadata": {},
   "outputs": [],
   "source": [
    "def k_counts_mat(ratings):\n",
    "    mat = np.zeros((n,m))\n",
    "    for _,triple in ratings.iterrows():\n",
    "        mat[int(triple[0])-1,int(triple[1])-1] = 1\n",
    "    return mat"
   ]
  },
  {
   "cell_type": "code",
   "execution_count": 15,
   "metadata": {},
   "outputs": [],
   "source": [
    "k_counts = k_counts_mat(df_ratings)"
   ]
  },
  {
   "cell_type": "code",
   "execution_count": 16,
   "metadata": {},
   "outputs": [],
   "source": [
    "user_count = k_counts.sum(axis=1)\n",
    "movie_count = k_counts.sum(axis=0)"
   ]
  },
  {
   "cell_type": "code",
   "execution_count": 17,
   "metadata": {},
   "outputs": [
    {
     "data": {
      "text/plain": [
       "(3952,\n",
       " 6040,\n",
       " (6040,),\n",
       " (3952,),\n",
       " array([ 53., 129.,  51., ...,  20., 123., 341.]),\n",
       " array([2077.,  701.,  478., ...,   54.,   40.,  388.]))"
      ]
     },
     "execution_count": 17,
     "metadata": {},
     "output_type": "execute_result"
    }
   ],
   "source": [
    "m,n,user_count.shape,movie_count.shape,user_count,movie_count"
   ]
  },
  {
   "cell_type": "code",
   "execution_count": 18,
   "metadata": {},
   "outputs": [
    {
     "data": {
      "text/plain": [
       "((6040, 3952), (3952,), (6040,))"
      ]
     },
     "execution_count": 18,
     "metadata": {},
     "output_type": "execute_result"
    }
   ],
   "source": [
    "train_a.shape,movie_count.shape,user_count.shape"
   ]
  },
  {
   "cell_type": "code",
   "execution_count": 19,
   "metadata": {},
   "outputs": [],
   "source": [
    "## 建立矩阵W\n",
    "def create_matW(matA,user_cnt,movies_cnt):\n",
    "    temp = (matA / user_cnt.reshape([-1,1])) / movies_cnt\n",
    "    return np.dot(matA.T,temp)"
   ]
  },
  {
   "cell_type": "code",
   "execution_count": 20,
   "metadata": {},
   "outputs": [],
   "source": [
    "mat_W = create_matW(train_a,user_count,movie_count)"
   ]
  },
  {
   "cell_type": "code",
   "execution_count": 21,
   "metadata": {},
   "outputs": [
    {
     "data": {
      "text/plain": [
       "(array([[5.72507183e-03, 7.63753768e-04, 5.19492771e-04, ...,\n",
       "         5.89987503e-04, 4.08607679e-04, 6.87558711e-04],\n",
       "        [2.57771493e-04, 1.90644932e-03, 8.37462035e-05, ...,\n",
       "         7.85648156e-05, 0.00000000e+00, 1.09970491e-04],\n",
       "        [1.19555871e-04, 5.71051145e-05, 1.94402109e-03, ...,\n",
       "         4.62494121e-05, 0.00000000e+00, 4.70142614e-05],\n",
       "        ...,\n",
       "        [1.53391070e-05, 6.05206853e-06, 5.22482899e-06, ...,\n",
       "         3.00389134e-03, 3.41718381e-04, 1.28253530e-04],\n",
       "        [7.86918977e-06, 0.00000000e+00, 0.00000000e+00, ...,\n",
       "         2.53124727e-04, 5.81743503e-03, 2.75530431e-04],\n",
       "        [1.28441396e-04, 6.08681175e-05, 3.81622038e-05, ...,\n",
       "         9.21525364e-04, 2.67264518e-03, 5.55578219e-03]]),\n",
       " (3952, 3952))"
      ]
     },
     "execution_count": 21,
     "metadata": {},
     "output_type": "execute_result"
    }
   ],
   "source": [
    "mat_W[np.isnan(mat_W)] = 0\n",
    "mat_W,mat_W.shape"
   ]
  },
  {
   "cell_type": "markdown",
   "metadata": {},
   "source": [
    "## pro 3:\n",
    "对给定用户，按照其喜欢程度，对电影进行排名，进行电影推荐；\n",
    "目标用户的资源分配矢量f。初始时，将他选择过的电影对应项资源设置为1，其他为0，得到初始n维0/1向量。则最终的资源分配矢量:\n",
    "$$\n",
    "f' = Wf\n",
    "$$\n",
    " \n",
    "将用户所有没看过的电影按照f'中对应项的得分进行排序，推荐排序靠前的电影给该用户。\n"
   ]
  },
  {
   "cell_type": "code",
   "execution_count": 22,
   "metadata": {},
   "outputs": [
    {
     "data": {
      "text/plain": [
       "((6040, 3952), (3952, 3952))"
      ]
     },
     "execution_count": 22,
     "metadata": {},
     "output_type": "execute_result"
    }
   ],
   "source": [
    "train_a.shape,mat_W.shape"
   ]
  },
  {
   "cell_type": "code",
   "execution_count": 23,
   "metadata": {},
   "outputs": [],
   "source": [
    "def create_matF(matW,matA):\n",
    "    temp = np.dot(matW,matA.T).T\n",
    "    return temp "
   ]
  },
  {
   "cell_type": "code",
   "execution_count": 24,
   "metadata": {},
   "outputs": [],
   "source": [
    "mat_F = create_matF(mat_W,train_a)"
   ]
  },
  {
   "cell_type": "code",
   "execution_count": 25,
   "metadata": {},
   "outputs": [
    {
     "data": {
      "text/plain": [
       "(array([[5.84903579e-02, 7.14387305e-03, 3.49469111e-03, ...,\n",
       "         6.43977636e-04, 7.12466277e-04, 6.59714625e-03],\n",
       "        [7.30389533e-02, 9.61691447e-03, 4.85278858e-03, ...,\n",
       "         1.16618052e-03, 9.49985482e-04, 1.12091432e-02],\n",
       "        [3.72860052e-02, 6.55720936e-03, 3.01855547e-03, ...,\n",
       "         6.05822921e-04, 1.83840917e-04, 3.85142186e-03],\n",
       "        ...,\n",
       "        [1.61457049e-02, 1.70856183e-03, 9.05138645e-04, ...,\n",
       "         2.36339333e-04, 1.17648722e-04, 1.66918186e-03],\n",
       "        [9.23183200e-02, 1.21427064e-02, 5.13987021e-03, ...,\n",
       "         1.59330360e-03, 1.78492813e-03, 1.19082376e-02],\n",
       "        [1.87385372e-01, 2.05502359e-02, 7.81523065e-03, ...,\n",
       "         4.11771282e-03, 4.30018154e-03, 3.48720082e-02]]),\n",
       " (6040, 3952))"
      ]
     },
     "execution_count": 25,
     "metadata": {},
     "output_type": "execute_result"
    }
   ],
   "source": [
    "mat_F[np.isnan(mat_F)] = 0\n",
    "mat_F,mat_F.shape"
   ]
  },
  {
   "cell_type": "code",
   "execution_count": 26,
   "metadata": {},
   "outputs": [
    {
     "data": {
      "text/plain": [
       "array([[ 138,  301,  926, ..., 1925, 3693, 1095],\n",
       "       [ 632, 3293, 2145, ..., 2757, 1925, 1095],\n",
       "       [2374, 3131, 3128, ..., 2755, 2757, 3693],\n",
       "       ...,\n",
       "       [ 726, 1504,  266, ..., 2757, 2743, 1095],\n",
       "       [2645, 2130, 2133, ..., 2757, 1095, 3693],\n",
       "       [3349, 2553,   63, ..., 3095, 3345, 1095]], dtype=int64)"
      ]
     },
     "execution_count": 26,
     "metadata": {},
     "output_type": "execute_result"
    }
   ],
   "source": [
    "## 将用户所有没看过的电影按照f'中对应项的得分进行排序，推荐排序靠前的电影给该用户。\n",
    "sort_matF = m - np.argsort(mat_F,axis=1)\n",
    "sort_matF"
   ]
  },
  {
   "cell_type": "markdown",
   "metadata": {},
   "source": [
    "## pro 4:\n",
    "4、\t算法预测准确性预测；\n",
    "将二部图中的边随机分为两部分，期中90%归为训练集，10%归为测试集。\n",
    "对给定用户i，假设其有Li个产品是未选择的，如果在测试集中用户i选择的电影j，而电影j依据向量 被排在第Rij位，则计算其相对位置：\n",
    "$$\n",
    "r_{ij} = \\frac{R_{ij}}{L_i}\n",
    "$$\n",
    "越精确的算法，给出的rij越小。对所有用户的rij求平均值 来量化评价算法的精确度。\n"
   ]
  },
  {
   "cell_type": "code",
   "execution_count": 27,
   "metadata": {},
   "outputs": [],
   "source": [
    "def create_matr(sortF,matA):\n",
    "    ## 对给定用户i，假设其有Li个产品是未选择的\n",
    "    matL = m - user_count     #所有电影数 - 该用户已选择电影数\n",
    "    R = np.zeros((n,m))\n",
    "    R = sortF * matA\n",
    "    return np.average(R / matL.reshape([-1,1]))"
   ]
  },
  {
   "cell_type": "code",
   "execution_count": 28,
   "metadata": {},
   "outputs": [],
   "source": [
    "mat_r = create_matr(sort_matF,test_a)"
   ]
  },
  {
   "cell_type": "code",
   "execution_count": 29,
   "metadata": {},
   "outputs": [
    {
     "data": {
      "text/plain": [
       "0.001321749693663017"
      ]
     },
     "execution_count": 29,
     "metadata": {},
     "output_type": "execute_result"
    }
   ],
   "source": [
    "avg_r = np.average(mat_r)\n",
    "avg_r"
   ]
  },
  {
   "cell_type": "markdown",
   "metadata": {},
   "source": [
    "5、\t画出ROC曲线来度量预测方法的准确性。\n",
    "选取不同的算法阈值，计算相应的真阳性率（TP）以及假阳性率（FP），画出ROC曲线。\n"
   ]
  },
  {
   "cell_type": "code",
   "execution_count": 61,
   "metadata": {},
   "outputs": [],
   "source": [
    "def roc_pic(f_mat,user_count,mat_rat,mat_dislike,num):\n",
    "    threshold_rate = np.linspace(0,1,num)\n",
    "\n",
    "    sort_result = np.argsort(-f_mat, axis=1)\n",
    "    th_fprs = np.zeros(num)\n",
    "    th_tprs = np.zeros(num)\n",
    "    for i,threshold in enumerate(threshold_rate):\n",
    "        recommond_num = int(mat_rat.shape[1] * threshold)\n",
    "        fprs = np.zeros(user_count.shape[0])\n",
    "        tprs = np.zeros(user_count.shape[0])\n",
    "        for user in range(user_count.shape[0]):\n",
    "            recommond_movie = sort_result[user,0:recommond_num]\n",
    "            user_like = np.where(mat_rat[user,:] == 1)[0]\n",
    "            user_dislike = np.where(mat_dislike[user,:] == 1)[0]\n",
    "            like = np.intersect1d(recommond_movie, user_like)\n",
    "            dis_like = np.intersect1d(recommond_movie, user_dislike)\n",
    "            if len(user_dislike) ==0:fprs[user] = 0\n",
    "            else:fprs[user] = len(dis_like) / len(user_dislike)\n",
    "            if len(user_like) ==0:tprs[user] = 0\n",
    "            else:tprs[user] = len(like) / len(user_like)\n",
    "        th_fprs[i] = fprs.mean()\n",
    "        th_tprs[i] = tprs.mean()\n",
    "    roc_auc = auc(th_fprs,th_tprs)\n",
    "    lw = 5\n",
    "    plt.rc('font', family='SimHei', size=13)\n",
    "    plt.figure(figsize=(10, 10))\n",
    "    plt.plot(th_fprs, th_tprs,lw=lw, label='ROC曲线(AUC = %0.3f)' % roc_auc)\n",
    "    plt.plot([0, 1], [0, 1], lw=lw, linestyle='--')\n",
    "    plt.xlim([0.0, 1.0])\n",
    "    plt.ylim([0.0, 1.0])\n",
    "    plt.xlabel('FPR')\n",
    "    plt.ylabel('TPR')\n",
    "    plt.title('ROC曲线')\n",
    "    plt.legend(loc=\"lower right\")\n",
    "    plt.show()\n"
   ]
  },
  {
   "cell_type": "code",
   "execution_count": 63,
   "metadata": {},
   "outputs": [
    {
     "data": {
      "image/png": "[encoded data removed]",
      "text/plain": [
       "<Figure size 720x720 with 1 Axes>"
      ]
     },
     "metadata": {
      "needs_background": "light"
     },
     "output_type": "display_data"
    }
   ],
   "source": [
    "roc_pic(mat_F, user_count, train_a, dis_train_a,100)"
   ]
  }
 ],
 "metadata": {
  "interpreter": {
   "hash": "e28ca803f3b91659037b2de0c9b3c1cdd2ff2afcf29dc700d1413925ec11f820"
  },
  "kernelspec": {
   "display_name": "Python 3.8.8 64-bit ('base': conda)",
   "language": "python",
   "name": "python3"
  },
  "language_info": {
   "codemirror_mode": {
    "name": "ipython",
    "version": 3
   },
   "file_extension": ".py",
   "mimetype": "text/x-python",
   "name": "python",
   "nbconvert_exporter": "python",
   "pygments_lexer": "ipython3",
   "version": "3.8.11"
  },
  "orig_nbformat": 4
 },
 "nbformat": 4,
 "nbformat_minor": 2
}
